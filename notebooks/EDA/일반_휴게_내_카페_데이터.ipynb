{
  "nbformat": 4,
  "nbformat_minor": 0,
  "metadata": {
    "colab": {
      "provenance": []
    },
    "kernelspec": {
      "name": "python3",
      "display_name": "Python 3"
    },
    "language_info": {
      "name": "python"
    }
  },
  "cells": [
    {
      "cell_type": "code",
      "source": [
        "# 나눔고딕 폰트 설치 및 설정\n",
        "!apt-get update -qq\n",
        "!apt-get install fonts-nanum -qq\n",
        "!fc-cache -fv\n",
        "!rm ~/.cache/matplotlib -rf"
      ],
      "metadata": {
        "colab": {
          "base_uri": "https://localhost:8080/"
        },
        "id": "_luQdo2I9TwQ",
        "outputId": "0257ba40-ea55-4bc7-e269-147b97fbd4a8"
      },
      "execution_count": 1,
      "outputs": [
        {
          "output_type": "stream",
          "name": "stdout",
          "text": [
            "W: Skipping acquire of configured file 'main/source/Sources' as repository 'https://r2u.stat.illinois.edu/ubuntu jammy InRelease' does not seem to provide it (sources.list entry misspelt?)\n",
            "Selecting previously unselected package fonts-nanum.\n",
            "(Reading database ... 126284 files and directories currently installed.)\n",
            "Preparing to unpack .../fonts-nanum_20200506-1_all.deb ...\n",
            "Unpacking fonts-nanum (20200506-1) ...\n",
            "Setting up fonts-nanum (20200506-1) ...\n",
            "Processing triggers for fontconfig (2.13.1-4.2ubuntu5) ...\n",
            "/usr/share/fonts: caching, new cache contents: 0 fonts, 1 dirs\n",
            "/usr/share/fonts/truetype: caching, new cache contents: 0 fonts, 3 dirs\n",
            "/usr/share/fonts/truetype/humor-sans: caching, new cache contents: 1 fonts, 0 dirs\n",
            "/usr/share/fonts/truetype/liberation: caching, new cache contents: 16 fonts, 0 dirs\n",
            "/usr/share/fonts/truetype/nanum: caching, new cache contents: 12 fonts, 0 dirs\n",
            "/usr/local/share/fonts: caching, new cache contents: 0 fonts, 0 dirs\n",
            "/root/.local/share/fonts: skipping, no such directory\n",
            "/root/.fonts: skipping, no such directory\n",
            "/usr/share/fonts/truetype: skipping, looped directory detected\n",
            "/usr/share/fonts/truetype/humor-sans: skipping, looped directory detected\n",
            "/usr/share/fonts/truetype/liberation: skipping, looped directory detected\n",
            "/usr/share/fonts/truetype/nanum: skipping, looped directory detected\n",
            "/var/cache/fontconfig: cleaning cache directory\n",
            "/root/.cache/fontconfig: not cleaning non-existent cache directory\n",
            "/root/.fontconfig: not cleaning non-existent cache directory\n",
            "fc-cache: succeeded\n"
          ]
        }
      ]
    },
    {
      "cell_type": "code",
      "source": [
        "# !pip install pyproj"
      ],
      "metadata": {
        "id": "u_Gb9gRmzBuj"
      },
      "execution_count": 2,
      "outputs": []
    },
    {
      "cell_type": "code",
      "execution_count": 3,
      "metadata": {
        "id": "icCWYaMs9G8b"
      },
      "outputs": [],
      "source": [
        "# 폰트 설정\n",
        "import matplotlib.font_manager as fm\n",
        "import matplotlib.pyplot as plt\n",
        "\n",
        "font_path = '/usr/share/fonts/truetype/nanum/NanumGothic.ttf'\n",
        "fontprop = fm.FontProperties(fname=font_path, size=10)\n",
        "plt.rcParams['font.family'] = 'NanumGothic'\n",
        "plt.rcParams['axes.unicode_minus'] = False"
      ]
    },
    {
      "cell_type": "code",
      "source": [
        "from google.colab import drive\n",
        "drive.mount('/content/drive')"
      ],
      "metadata": {
        "colab": {
          "base_uri": "https://localhost:8080/"
        },
        "id": "56F8_dFM9vK-",
        "outputId": "f06d9e4d-7e9d-4fa8-ee31-052cfecc004e"
      },
      "execution_count": 4,
      "outputs": [
        {
          "output_type": "stream",
          "name": "stdout",
          "text": [
            "Mounted at /content/drive\n"
          ]
        }
      ]
    },
    {
      "cell_type": "code",
      "source": [
        "# 1. 라이브러리 설치 및 불러오기\n",
        "import pandas as pd\n",
        "import numpy as np\n",
        "import seaborn as sns\n",
        "import matplotlib.pyplot as plt\n",
        "from pyproj import Transformer\n",
        "from sklearn.preprocessing import StandardScaler"
      ],
      "metadata": {
        "id": "tLzBBhte9L69"
      },
      "execution_count": 5,
      "outputs": []
    },
    {
      "cell_type": "code",
      "source": [
        "# dtype_dict = {\n",
        "#    '폐업일자': str,\n",
        "#    '휴업시작일자': str,\n",
        "#    '도로명전체주소': str,\n",
        "#    '업태구분명': str,\n",
        "#    '사업장명': str,\n",
        "# }\n",
        "\n",
        "feature_cols  = [\n",
        "    \"인허가일자\",\n",
        "    \"인허가취소일자\",\n",
        "    \"영업상태구분코드\",\n",
        "    \"영업상태명\",\n",
        "    \"상세영업상태코드\",\n",
        "    \"상세영업상태명\",\n",
        "    \"폐업일자\",\n",
        "    \"휴업시작일자\",\n",
        "    \"휴업종료일자\",\n",
        "    \"재개업일자\",\n",
        "    \"소재지전체주소\",\n",
        "    \"도로명전체주소\",\n",
        "    \"업태구분명\",\n",
        "    '좌표정보X(EPSG5174)',\n",
        "    '좌표정보Y(EPSG5174)',\n",
        "    \"사업장명\",\n",
        "    \"데이터갱신일자\",\n",
        "    \"소재지면적\",\n",
        "    # \"시설총규모\"\n",
        "]\n",
        "date_cols = ['인허가일자', '인허가취소일자', '폐업일자', '휴업시작일자', '휴업종료일자', '재개업일자', '데이터갱신일자']\n",
        "target_si_names = ['화성시','안산시','수원시','안양시','용인시', '부천시']\n",
        "target_si = '|'.join(target_si_names)\n",
        "cafe_types = ['커피숍', '카페', '까페', '커피전문점', '다방']\n",
        "franchise_list = [\n",
        "    \"감성커피\", \"더벤티\", \"더카페\", \"드롭탑\", \"만랩커피\", \"빽다방\", \"셀렉토커피\", \"스타벅스\", \"이디야커피\", \"dal.komm\",\n",
        "    \"달.콤커피\", \"메가엠지씨커피\", \"우지커피\", \"백억커피\", \"카페일리터\", \"매머드익스프레스\", \"테라커피\", \"텐퍼센트커피\",\n",
        "    \"TENPERCENT COFFEE\", \"고망고\", \"카페베네\", \"커피마마\", \"커피빈\", \"커피에반하다\", \"컴포즈커피\", \"탐앤탐스\", \"토프레소\",\n",
        "    \"파스쿠찌\", \"하삼동커피\", \"할리스\", \"투썸플레이스\", \"공차\", \"천씨씨\", \"그라찌에\", \"빈스빈스\", \"카페보니또\", \"커피베이\",\n",
        "    \"엔제리너스\", \"전광수커피\", \"커피나무\", \"커피스미스\", \"요거프레소\", \"쥬씨\", \"네스프레소\", \"쮸커커피\", \"코나카페\",\n",
        "    \"폴바셋\", \"카페루트\", \"콩볶는커피쟁이\", \"골드빈Ⅱ\", \"카페더베어\", \"카페모어\", \"반달커피\", \"카페모니\", \"카페소소\",\n",
        "    \"카페아이엔지\", \"카페168\", \"일리카페\", \"카페드랍탑\", \"마북173\", \"블루뮤트\", \"더폴\", \"카페빔\", \"더리터\", \"벤티프레소\",\n",
        "    \"타르트봉봉\", \"카페시그니쳐\", \"달콤커피\", \"달리는커피\", \"매머드커피\", \"투썸커피\", \"탐앤탐스커피\", \"더리터\", \"메가커피\",\n",
        "    \"커피명가\", \"커피스미스\", \"더착한커피\", \"벤티프레소\", \"텍퍼센트커피\", \"아마스빈\", \"투썸커피\"\n",
        "]\n",
        "\n",
        "props = {\n",
        "    # 'dtype': dtype_dict,\n",
        "    'usecols': feature_cols\n",
        "}\n",
        "\n",
        "df_list = []\n",
        "for i in range(len(target_si_names) * 2):\n",
        "  일반_content = pd.read_excel(f\"/content/drive/MyDrive/2nd_미니_프로젝트/07_24_04_P_일반음식점 ({i}).xlsx\", **props)\n",
        "  휴게_content = pd.read_excel(f\"/content/drive/MyDrive/2nd_미니_프로젝트/07_24_05_P_휴게음식점 ({i}).xlsx\", **props)\n",
        "\n",
        "  df_list.append(일반_content)\n",
        "  df_list.append(휴게_content)\n",
        "\n",
        "df = pd.concat(df_list, ignore_index=True)\n",
        "\n",
        "df = df[feature_cols]\n",
        "df = df[\n",
        "    df['업태구분명'].isin(cafe_types) &\n",
        "    df['소재지전체주소'].str.contains(target_si, na=False)\n",
        "].copy()\n",
        "\n",
        "# epsg5174 기준 좌표를 lon, lat으로 수정\n",
        "transformer = Transformer.from_crs(\"epsg:5174\", \"epsg:4326\", always_xy=True)\n",
        "df['lon'], df['lat'] = transformer.transform(df['좌표정보X(EPSG5174)'].values, df['좌표정보Y(EPSG5174)'].values)\n",
        "df = df.drop(columns=['좌표정보X(EPSG5174)', '좌표정보Y(EPSG5174)'])\n",
        "\n",
        "for col in date_cols:\n",
        "    df[col] = pd.to_datetime(df[col], errors='coerce')\n",
        "\n",
        "cutoff_date = pd.to_datetime('2016-01-01')\n",
        "df = df[(df['폐업일자'] >= cutoff_date) | (df['폐업일자'].isna())]\n",
        "\n",
        "df['도로명전체주소'] = df['도로명전체주소'].fillna(df['소재지전체주소'])\n",
        "df['소재지면적'] = df['소재지면적'].fillna(df['소재지면적'].mean())\n",
        "\n",
        "df['폐업여부'] = df['영업상태명'].apply(lambda x: 1 if x == '폐업' else 0)\n",
        "df.loc[(df['영업상태명'] == '폐업') & (df['폐업일자'].isna()), '폐업일자'] = df['데이터갱신일자']\n",
        "df['폐업연도'] = np.where(\n",
        "    (df['영업상태명'] == '폐업') & (df['폐업일자'].notna()),\n",
        "    df['폐업일자'].dt.year,\n",
        "    None\n",
        ")\n",
        "df['인허가연도'] = df['인허가일자'].dt.year\n",
        "df['영업기간(일)'] = (df['폐업일자'] - df['인허가일자']).dt.days\n",
        "\n",
        "df['직원수'] = (df['소재지면적'] / 30).round(2)\n",
        "\n",
        "df['시군명'] = df['소재지전체주소'].str.extract(r'([가-힣]+시)')\n",
        "\n",
        "df['프랜차이즈'] = df['사업장명'].apply(\n",
        "    lambda x: 1 if any(franchise in x for franchise in franchise_list) else 0\n",
        ")\n",
        "\n",
        "print('영업', df[df['상세영업상태명'] == '영업'].shape[0])\n",
        "print('영업X', df[df['상세영업상태명'] != '영업'].shape[0])\n",
        "\n",
        "# print(df.isna().sum())\n",
        "# print()\n",
        "print(df.shape)\n",
        "\n",
        "df.to_csv('일반_휴게_통합_카페_데이터.csv', index=False, encoding='utf-8-sig')"
      ],
      "metadata": {
        "colab": {
          "base_uri": "https://localhost:8080/"
        },
        "id": "diccLHxT97od",
        "outputId": "f16bce4e-4789-4d67-a3c2-439dd920250c"
      },
      "execution_count": 6,
      "outputs": [
        {
          "output_type": "stream",
          "name": "stderr",
          "text": [
            "/usr/local/lib/python3.11/dist-packages/openpyxl/styles/stylesheet.py:237: UserWarning: Workbook contains no default style, apply openpyxl's default\n",
            "  warn(\"Workbook contains no default style, apply openpyxl's default\")\n",
            "/usr/local/lib/python3.11/dist-packages/openpyxl/styles/stylesheet.py:237: UserWarning: Workbook contains no default style, apply openpyxl's default\n",
            "  warn(\"Workbook contains no default style, apply openpyxl's default\")\n",
            "/usr/local/lib/python3.11/dist-packages/openpyxl/styles/stylesheet.py:237: UserWarning: Workbook contains no default style, apply openpyxl's default\n",
            "  warn(\"Workbook contains no default style, apply openpyxl's default\")\n",
            "/usr/local/lib/python3.11/dist-packages/openpyxl/styles/stylesheet.py:237: UserWarning: Workbook contains no default style, apply openpyxl's default\n",
            "  warn(\"Workbook contains no default style, apply openpyxl's default\")\n",
            "/usr/local/lib/python3.11/dist-packages/openpyxl/styles/stylesheet.py:237: UserWarning: Workbook contains no default style, apply openpyxl's default\n",
            "  warn(\"Workbook contains no default style, apply openpyxl's default\")\n",
            "/usr/local/lib/python3.11/dist-packages/openpyxl/styles/stylesheet.py:237: UserWarning: Workbook contains no default style, apply openpyxl's default\n",
            "  warn(\"Workbook contains no default style, apply openpyxl's default\")\n",
            "/usr/local/lib/python3.11/dist-packages/openpyxl/styles/stylesheet.py:237: UserWarning: Workbook contains no default style, apply openpyxl's default\n",
            "  warn(\"Workbook contains no default style, apply openpyxl's default\")\n",
            "/usr/local/lib/python3.11/dist-packages/openpyxl/styles/stylesheet.py:237: UserWarning: Workbook contains no default style, apply openpyxl's default\n",
            "  warn(\"Workbook contains no default style, apply openpyxl's default\")\n",
            "/usr/local/lib/python3.11/dist-packages/openpyxl/styles/stylesheet.py:237: UserWarning: Workbook contains no default style, apply openpyxl's default\n",
            "  warn(\"Workbook contains no default style, apply openpyxl's default\")\n",
            "/usr/local/lib/python3.11/dist-packages/openpyxl/styles/stylesheet.py:237: UserWarning: Workbook contains no default style, apply openpyxl's default\n",
            "  warn(\"Workbook contains no default style, apply openpyxl's default\")\n",
            "/usr/local/lib/python3.11/dist-packages/openpyxl/styles/stylesheet.py:237: UserWarning: Workbook contains no default style, apply openpyxl's default\n",
            "  warn(\"Workbook contains no default style, apply openpyxl's default\")\n",
            "/usr/local/lib/python3.11/dist-packages/openpyxl/styles/stylesheet.py:237: UserWarning: Workbook contains no default style, apply openpyxl's default\n",
            "  warn(\"Workbook contains no default style, apply openpyxl's default\")\n",
            "/usr/local/lib/python3.11/dist-packages/openpyxl/styles/stylesheet.py:237: UserWarning: Workbook contains no default style, apply openpyxl's default\n",
            "  warn(\"Workbook contains no default style, apply openpyxl's default\")\n",
            "/usr/local/lib/python3.11/dist-packages/openpyxl/styles/stylesheet.py:237: UserWarning: Workbook contains no default style, apply openpyxl's default\n",
            "  warn(\"Workbook contains no default style, apply openpyxl's default\")\n",
            "/usr/local/lib/python3.11/dist-packages/openpyxl/styles/stylesheet.py:237: UserWarning: Workbook contains no default style, apply openpyxl's default\n",
            "  warn(\"Workbook contains no default style, apply openpyxl's default\")\n",
            "/usr/local/lib/python3.11/dist-packages/openpyxl/styles/stylesheet.py:237: UserWarning: Workbook contains no default style, apply openpyxl's default\n",
            "  warn(\"Workbook contains no default style, apply openpyxl's default\")\n",
            "/usr/local/lib/python3.11/dist-packages/openpyxl/styles/stylesheet.py:237: UserWarning: Workbook contains no default style, apply openpyxl's default\n",
            "  warn(\"Workbook contains no default style, apply openpyxl's default\")\n",
            "/usr/local/lib/python3.11/dist-packages/openpyxl/styles/stylesheet.py:237: UserWarning: Workbook contains no default style, apply openpyxl's default\n",
            "  warn(\"Workbook contains no default style, apply openpyxl's default\")\n",
            "/usr/local/lib/python3.11/dist-packages/openpyxl/styles/stylesheet.py:237: UserWarning: Workbook contains no default style, apply openpyxl's default\n",
            "  warn(\"Workbook contains no default style, apply openpyxl's default\")\n",
            "/usr/local/lib/python3.11/dist-packages/openpyxl/styles/stylesheet.py:237: UserWarning: Workbook contains no default style, apply openpyxl's default\n",
            "  warn(\"Workbook contains no default style, apply openpyxl's default\")\n",
            "/usr/local/lib/python3.11/dist-packages/openpyxl/styles/stylesheet.py:237: UserWarning: Workbook contains no default style, apply openpyxl's default\n",
            "  warn(\"Workbook contains no default style, apply openpyxl's default\")\n",
            "/usr/local/lib/python3.11/dist-packages/openpyxl/styles/stylesheet.py:237: UserWarning: Workbook contains no default style, apply openpyxl's default\n",
            "  warn(\"Workbook contains no default style, apply openpyxl's default\")\n",
            "/usr/local/lib/python3.11/dist-packages/openpyxl/styles/stylesheet.py:237: UserWarning: Workbook contains no default style, apply openpyxl's default\n",
            "  warn(\"Workbook contains no default style, apply openpyxl's default\")\n",
            "/usr/local/lib/python3.11/dist-packages/openpyxl/styles/stylesheet.py:237: UserWarning: Workbook contains no default style, apply openpyxl's default\n",
            "  warn(\"Workbook contains no default style, apply openpyxl's default\")\n"
          ]
        },
        {
          "output_type": "stream",
          "name": "stdout",
          "text": [
            "영업 7159\n",
            "영업X 8800\n",
            "(15959, 25)\n"
          ]
        }
      ]
    },
    {
      "cell_type": "code",
      "source": [
        "temp_df = pd.read_csv(\"/content/일반_휴게_통합_카페_데이터.csv\", encoding=\"utf-8\")\n",
        "print(temp_df.isna().sum())"
      ],
      "metadata": {
        "colab": {
          "base_uri": "https://localhost:8080/"
        },
        "id": "r3mmkjgk_QH9",
        "outputId": "5a4d2273-f1aa-42f3-85db-2453007d4264"
      },
      "execution_count": 7,
      "outputs": [
        {
          "output_type": "stream",
          "name": "stdout",
          "text": [
            "인허가일자           0\n",
            "인허가취소일자     15959\n",
            "영업상태구분코드        0\n",
            "영업상태명           0\n",
            "상세영업상태코드        0\n",
            "상세영업상태명         0\n",
            "폐업일자         7159\n",
            "휴업시작일자      15959\n",
            "휴업종료일자      15959\n",
            "재개업일자       15959\n",
            "소재지전체주소         0\n",
            "도로명전체주소         0\n",
            "업태구분명           0\n",
            "사업장명            0\n",
            "데이터갱신일자         0\n",
            "소재지면적           0\n",
            "lon           880\n",
            "lat           880\n",
            "폐업여부            0\n",
            "폐업연도         7159\n",
            "인허가연도           0\n",
            "영업기간(일)      7159\n",
            "직원수             0\n",
            "시군명             0\n",
            "프랜차이즈           0\n",
            "dtype: int64\n"
          ]
        }
      ]
    }
  ]
}